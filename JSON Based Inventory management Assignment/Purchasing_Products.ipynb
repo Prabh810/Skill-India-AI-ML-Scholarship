{
  "nbformat": 4,
  "nbformat_minor": 0,
  "metadata": {
    "colab": {
      "name": "Purchasing_Products.ipynb",
      "provenance": []
    },
    "kernelspec": {
      "name": "python3",
      "display_name": "Python 3"
    },
    "language_info": {
      "name": "python"
    }
  },
  "cells": [
    {
      "cell_type": "markdown",
      "metadata": {
        "id": "BVAknbvdYkgI"
      },
      "source": [
        "**Read Inventory**"
      ]
    },
    {
      "cell_type": "code",
      "metadata": {
        "id": "Z5FgecuhTNLW"
      },
      "source": [
        "\n",
        "import json\n",
        "\n",
        "fd = open(\"record.json\",'r')\n",
        "r = fd.read()\n",
        "fd.close()\n",
        "\n",
        "records = json.loads(r)"
      ],
      "execution_count": 1,
      "outputs": []
    },
    {
      "cell_type": "code",
      "metadata": {
        "colab": {
          "base_uri": "https://localhost:8080/"
        },
        "id": "Tg65FyJUTnEB",
        "outputId": "a9b8e9e2-119b-4267-c17c-15003a671ec9"
      },
      "source": [
        "records"
      ],
      "execution_count": 4,
      "outputs": [
        {
          "output_type": "execute_result",
          "data": {
            "text/plain": [
              "{'1001': {'name': 'Choco Cake', 'pr': 100, 'qn': 34},\n",
              " '1002': {'name': 'Milk Cake', 'pr': 800, 'qn': 100},\n",
              " '1003': {'name': 'Drink', 'pr': 85, 'qn': 100},\n",
              " '1004': {'name': 'Candy', 'pr': 5, 'qn': 1000},\n",
              " '1005': {'name': 'Pen', 'pr': 20, 'qn': 100},\n",
              " '1006': {'name': 'Phone', 'pr': 50000, 'qn': 10},\n",
              " '1007': {'name': 'Mic', 'pr': 1500, 'qn': 0},\n",
              " '1008': {'name': 'Case', 'pr': 599, 'qn': 5},\n",
              " '1009': {'name': 'dog', 'pr': 1999, 'qn': 10},\n",
              " '1010': {'name': 'cycle', 'pr': 1999, 'qn': 10},\n",
              " '1011': {'name': 'pen', 'pr': 1999, 'qn': 10},\n",
              " '1012': {'name': 'book', 'pr': 19949, 'qn': 101},\n",
              " '1013': {'name': 'cat', 'pr': 999, 'qn': 14},\n",
              " '1014': {'name': 'yash', 'pr': 22267862, 'qn': 15},\n",
              " '1015': {'name': 'bat', 'pr': 20000, 'qn': 145},\n",
              " '1016': {'name': 'headphone', 'pr': 999, 'qn': 134},\n",
              " '1017': {'name': 'cup', 'pr': 11999, 'qn': 117},\n",
              " '1018': {'name': 'plate', 'pr': 1945699, 'qn': 120},\n",
              " '1019': {'name': 'spoon', 'pr': 11799, 'qn': 156},\n",
              " '1020': {'name': 'frog', 'pr': 119, 'qn': 140},\n",
              " '1021': {'name': 'steel', 'pr': 19449, 'qn': 111},\n",
              " '1022': {'name': 'cooler', 'pr': 1999, 'qn': 113},\n",
              " '1023': {'name': 'books', 'pr': 1969, 'qn': 160},\n",
              " '1024': {'name': 'door', 'pr': 1969, 'qn': 140},\n",
              " '1025': {'name': 'DantKanti', 'pr': 1999, 'qn': 144},\n",
              " '1026': {'name': 'Dustbin', 'pr': 1999, 'qn': 70},\n",
              " '1027': {'name': 'Pen', 'pr': 199, 'qn': 115},\n",
              " '1028': {'name': 'mobile', 'pr': 1999, 'qn': 120},\n",
              " '1029': {'name': 'cycle', 'pr': 1999, 'qn': 130},\n",
              " '1030': {'name': 'Mini Bike', 'pr': 11959, 'qn': 222},\n",
              " '1031': {'name': 'cars', 'pr': 1999999, 'qn': 100}}"
            ]
          },
          "metadata": {},
          "execution_count": 4
        }
      ]
    },
    {
      "cell_type": "markdown",
      "metadata": {
        "id": "rSA9f5YKYqws"
      },
      "source": [
        "**Purchase**"
      ]
    },
    {
      "cell_type": "code",
      "metadata": {
        "colab": {
          "base_uri": "https://localhost:8080/"
        },
        "id": "EVlp4eMBT0tl",
        "outputId": "968abbf4-4957-4bae-932b-47b651bbb8e4"
      },
      "source": [
        "\n",
        "ui_prod  = str(input(\"Enter the product_Id: \"))\n",
        "ui_quant = int(input(\"Enter the quantity: \"))\n",
        "\n",
        "\n",
        "print(\"Product: \", records[ui_prod]['name'])\n",
        "print(\"Price: \", records[ui_prod]['pr'])\n",
        "print(\"Billing Amount: \", records[ui_prod]['pr'] * ui_quant)\n",
        "\n",
        "records[ui_prod]['qn'] = records[ui_prod]['qn'] - ui_quant"
      ],
      "execution_count": 113,
      "outputs": [
        {
          "output_type": "stream",
          "name": "stdout",
          "text": [
            "Enter the product_Id: 1026\n",
            "Enter the quantity: 1\n",
            "Product:  Dustbin\n",
            "Price:  1999\n",
            "Billing Amount:  1999\n"
          ]
        }
      ]
    },
    {
      "cell_type": "code",
      "metadata": {
        "colab": {
          "base_uri": "https://localhost:8080/"
        },
        "id": "lCDt1LOHT8TZ",
        "outputId": "3df528ee-f525-4d08-df8f-a6f28e579c87"
      },
      "source": [
        "records"
      ],
      "execution_count": 114,
      "outputs": [
        {
          "output_type": "execute_result",
          "data": {
            "text/plain": [
              "{'1001': {'name': 'Choco Cake', 'pr': 100, 'qn': 12},\n",
              " '1002': {'name': 'Milk Cake', 'pr': 800, 'qn': 99},\n",
              " '1003': {'name': 'Drink', 'pr': 85, 'qn': 100},\n",
              " '1004': {'name': 'Candy', 'pr': 5, 'qn': 998},\n",
              " '1005': {'name': 'Pen', 'pr': 20, 'qn': 100},\n",
              " '1006': {'name': 'Phone', 'pr': 50000, 'qn': 10},\n",
              " '1007': {'name': 'Mic', 'pr': 1500, 'qn': 0},\n",
              " '1008': {'name': 'Case', 'pr': 599, 'qn': 3},\n",
              " '1009': {'name': 'dog', 'pr': 1999, 'qn': 10},\n",
              " '1010': {'name': 'cycle', 'pr': 1999, 'qn': 10},\n",
              " '1011': {'name': 'pen', 'pr': 1999, 'qn': 10},\n",
              " '1012': {'name': 'book', 'pr': 19949, 'qn': 101},\n",
              " '1013': {'name': 'cat', 'pr': 999, 'qn': 14},\n",
              " '1014': {'name': 'yash', 'pr': 22267862, 'qn': 15},\n",
              " '1015': {'name': 'bat', 'pr': 20000, 'qn': 145},\n",
              " '1016': {'name': 'headphone', 'pr': 999, 'qn': 134},\n",
              " '1017': {'name': 'cup', 'pr': 11999, 'qn': 117},\n",
              " '1018': {'name': 'plate', 'pr': 1945699, 'qn': 120},\n",
              " '1019': {'name': 'spoon', 'pr': 11799, 'qn': 156},\n",
              " '1020': {'name': 'frog', 'pr': 119, 'qn': 140},\n",
              " '1021': {'name': 'steel', 'pr': 19449, 'qn': 111},\n",
              " '1022': {'name': 'cooler', 'pr': 1999, 'qn': 111},\n",
              " '1023': {'name': 'books', 'pr': 1969, 'qn': 160},\n",
              " '1024': {'name': 'door', 'pr': 1969, 'qn': 139},\n",
              " '1025': {'name': 'DantKanti', 'pr': 1999, 'qn': 144},\n",
              " '1026': {'name': 'Dustbin', 'pr': 1999, 'qn': 69},\n",
              " '1027': {'name': 'Pen', 'pr': 199, 'qn': 115},\n",
              " '1028': {'name': 'mobile', 'pr': 1999, 'qn': 118},\n",
              " '1029': {'name': 'cycle', 'pr': 1999, 'qn': 126},\n",
              " '1030': {'name': 'Mini Bike', 'pr': 11959, 'qn': 22},\n",
              " '1031': {'name': 'cars', 'pr': 1999999, 'qn': 99}}"
            ]
          },
          "metadata": {},
          "execution_count": 114
        }
      ]
    },
    {
      "cell_type": "markdown",
      "metadata": {
        "id": "pLW5M3c_YyFc"
      },
      "source": [
        "**Update Inventory after purchase**"
      ]
    },
    {
      "cell_type": "code",
      "metadata": {
        "id": "0EyKcaQVUAdC"
      },
      "source": [
        "js = json.dumps(records)\n",
        "\n",
        "fd = open(\"record.json\",'w')\n",
        "fd.write(js)\n",
        "fd.close()"
      ],
      "execution_count": 115,
      "outputs": []
    },
    {
      "cell_type": "markdown",
      "metadata": {
        "id": "LUZWDo7HZAdd"
      },
      "source": [
        "**Sales JSON**"
      ]
    },
    {
      "cell_type": "code",
      "metadata": {
        "id": "0gto6IGnVw9n"
      },
      "source": [
        "sales[len(sales) + 1] = {'prod' : ui_prod, 'qn' : ui_quant, 'amount': records[ui_prod]['pr'] * ui_quant}"
      ],
      "execution_count": 116,
      "outputs": []
    },
    {
      "cell_type": "code",
      "metadata": {
        "colab": {
          "base_uri": "https://localhost:8080/"
        },
        "id": "2X0_0KQBUzes",
        "outputId": "d3046d6a-6075-403f-ce58-d863410846be"
      },
      "source": [
        "sales"
      ],
      "execution_count": 117,
      "outputs": [
        {
          "output_type": "execute_result",
          "data": {
            "text/plain": [
              "{1: {'amount': 3998, 'prod': '1028', 'qn': 2},\n",
              " 2: {'amount': 3998, 'prod': '1028', 'qn': 2},\n",
              " 3: {'amount': 3998, 'prod': '1029', 'qn': 2},\n",
              " 4: {'amount': 2200, 'prod': '1001', 'qn': 22},\n",
              " 5: {'amount': 800, 'prod': '1002', 'qn': 1},\n",
              " 6: {'amount': 10, 'prod': '1004', 'qn': 2},\n",
              " 7: {'amount': 1198, 'prod': '1008', 'qn': 2},\n",
              " 8: {'amount': 3998, 'prod': '1022', 'qn': 2},\n",
              " 9: {'amount': 1969, 'prod': '1024', 'qn': 1},\n",
              " 10: {'amount': 1999, 'prod': '1026', 'qn': 1}}"
            ]
          },
          "metadata": {},
          "execution_count": 117
        }
      ]
    },
    {
      "cell_type": "code",
      "metadata": {
        "id": "KmBbvIqZVDgu"
      },
      "source": [
        "sale = json.dumps(sales)"
      ],
      "execution_count": 118,
      "outputs": []
    },
    {
      "cell_type": "code",
      "metadata": {
        "id": "m9NYN1D0VHlF"
      },
      "source": [
        "fd = open(\"sales.json\",'w')\n",
        "fd.write(sale)\n",
        "fd.close()"
      ],
      "execution_count": 119,
      "outputs": []
    },
    {
      "cell_type": "code",
      "metadata": {
        "colab": {
          "base_uri": "https://localhost:8080/"
        },
        "id": "QstXY-vkVLWv",
        "outputId": "ce993fea-eafe-4ce5-ccd2-b88cdbd5c8c4"
      },
      "source": [
        "sales"
      ],
      "execution_count": 120,
      "outputs": [
        {
          "output_type": "execute_result",
          "data": {
            "text/plain": [
              "{1: {'amount': 3998, 'prod': '1028', 'qn': 2},\n",
              " 2: {'amount': 3998, 'prod': '1028', 'qn': 2},\n",
              " 3: {'amount': 3998, 'prod': '1029', 'qn': 2},\n",
              " 4: {'amount': 2200, 'prod': '1001', 'qn': 22},\n",
              " 5: {'amount': 800, 'prod': '1002', 'qn': 1},\n",
              " 6: {'amount': 10, 'prod': '1004', 'qn': 2},\n",
              " 7: {'amount': 1198, 'prod': '1008', 'qn': 2},\n",
              " 8: {'amount': 3998, 'prod': '1022', 'qn': 2},\n",
              " 9: {'amount': 1969, 'prod': '1024', 'qn': 1},\n",
              " 10: {'amount': 1999, 'prod': '1026', 'qn': 1}}"
            ]
          },
          "metadata": {},
          "execution_count": 120
        }
      ]
    }
  ]
}