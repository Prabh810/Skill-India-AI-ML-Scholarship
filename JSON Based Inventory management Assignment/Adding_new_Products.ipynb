{
  "nbformat": 4,
  "nbformat_minor": 0,
  "metadata": {
    "colab": {
      "name": "Adding_new_Products.ipynb",
      "provenance": []
    },
    "kernelspec": {
      "name": "python3",
      "display_name": "Python 3"
    },
    "language_info": {
      "name": "python"
    }
  },
  "cells": [
    {
      "cell_type": "markdown",
      "metadata": {
        "id": "dPKwZWpaZS6z"
      },
      "source": [
        "**Read Data from JSON**"
      ]
    },
    {
      "cell_type": "code",
      "metadata": {
        "id": "CLFluy7XSB0F"
      },
      "source": [
        "import json\n",
        "\n",
        "fd = open(\"record.json\",'r')\n",
        "r = fd.read()\n",
        "fd.close()\n",
        "\n",
        "record = json.loads(r)"
      ],
      "execution_count": 1,
      "outputs": []
    },
    {
      "cell_type": "code",
      "metadata": {
        "colab": {
          "base_uri": "https://localhost:8080/"
        },
        "id": "UDhdswzYS15w",
        "outputId": "d656fa40-3a4e-4e7e-9086-d37c81d51ba7"
      },
      "source": [
        "record"
      ],
      "execution_count": 2,
      "outputs": [
        {
          "output_type": "execute_result",
          "data": {
            "text/plain": [
              "{'1001': {'name': 'Choco Cake', 'pr': 100, 'qn': 34},\n",
              " '1002': {'name': 'Milk Cake', 'pr': 800, 'qn': 100},\n",
              " '1003': {'name': 'Drink', 'pr': 85, 'qn': 100},\n",
              " '1004': {'name': 'Candy', 'pr': 5, 'qn': 1000},\n",
              " '1005': {'name': 'Pen', 'pr': 20, 'qn': 100},\n",
              " '1006': {'name': 'Phone', 'pr': 50000, 'qn': 10},\n",
              " '1007': {'name': 'Mic', 'pr': 1500, 'qn': 0},\n",
              " '1008': {'name': 'Case', 'pr': 599, 'qn': 5},\n",
              " '1009': {'name': 'dog', 'pr': 1999, 'qn': 10},\n",
              " '1010': {'name': 'cycle', 'pr': 1999, 'qn': 10},\n",
              " '1011': {'name': 'pen', 'pr': 1999, 'qn': 10},\n",
              " '1012': {'name': 'book', 'pr': 19949, 'qn': 101},\n",
              " '1013': {'name': 'cat', 'pr': 999, 'qn': 14},\n",
              " '1014': {'name': 'yash', 'pr': 22267862, 'qn': 15},\n",
              " '1015': {'name': 'bat', 'pr': 20000, 'qn': 145},\n",
              " '1016': {'name': 'headphone', 'pr': 999, 'qn': 134},\n",
              " '1017': {'name': 'cup', 'pr': 11999, 'qn': 117},\n",
              " '1018': {'name': 'plate', 'pr': 1945699, 'qn': 120},\n",
              " '1019': {'name': 'spoon', 'pr': 11799, 'qn': 156},\n",
              " '1020': {'name': 'frog', 'pr': 119, 'qn': 140},\n",
              " '1021': {'name': 'steel', 'pr': 19449, 'qn': 111},\n",
              " '1022': {'name': 'cooler', 'pr': 1999, 'qn': 113},\n",
              " '1023': {'name': 'books', 'pr': 1969, 'qn': 160},\n",
              " '1024': {'name': 'door', 'pr': 1969, 'qn': 140},\n",
              " '1025': {'name': 'DantKanti', 'pr': 1999, 'qn': 144},\n",
              " '1026': {'name': 'Dustbin', 'pr': 1999, 'qn': 70},\n",
              " '1027': {'name': 'Pen', 'pr': 199, 'qn': 115},\n",
              " '1028': {'name': 'mobile', 'pr': 1999, 'qn': 120},\n",
              " '1029': {'name': 'cycle', 'pr': 1999, 'qn': 130},\n",
              " '1030': {'name': 'Mini Bike', 'pr': 11959, 'qn': 222}}"
            ]
          },
          "metadata": {},
          "execution_count": 2
        }
      ]
    },
    {
      "cell_type": "markdown",
      "metadata": {
        "id": "-t7qvuQcZZIs"
      },
      "source": [
        "**Add New Item into Inventory**"
      ]
    },
    {
      "cell_type": "code",
      "metadata": {
        "colab": {
          "base_uri": "https://localhost:8080/"
        },
        "id": "OxzG8SPtS9mj",
        "outputId": "e0ed5816-4f43-454f-cc63-fbaaa2e45fbb"
      },
      "source": [
        "prod_id = str(input(\"Enter product id:\"))\n",
        "name = str(input(\"Enter name:\"))\n",
        "pr = int(input(\"Enter price:\"))\n",
        "qn = int(input(\"Enter quantity:\"))\n",
        "\n",
        "record[prod_id] = {'name': name, 'pr': pr, 'qn': qn}\n",
        "\n",
        "js = json.dumps(record)\n",
        "\n",
        "fd = open(\"record.json\",'w')\n",
        "fd.write(js)\n",
        "fd.close()"
      ],
      "execution_count": 3,
      "outputs": [
        {
          "name": "stdout",
          "output_type": "stream",
          "text": [
            "Enter product id:1031\n",
            "Enter name:cars\n",
            "Enter price:1999999\n",
            "Enter quantity:100\n"
          ]
        }
      ]
    },
    {
      "cell_type": "code",
      "metadata": {
        "colab": {
          "base_uri": "https://localhost:8080/"
        },
        "id": "E_oBbWPdTErX",
        "outputId": "d5c0f979-93df-4451-ae16-5753fea15776"
      },
      "source": [
        "record"
      ],
      "execution_count": 4,
      "outputs": [
        {
          "output_type": "execute_result",
          "data": {
            "text/plain": [
              "{'1001': {'name': 'Choco Cake', 'pr': 100, 'qn': 34},\n",
              " '1002': {'name': 'Milk Cake', 'pr': 800, 'qn': 100},\n",
              " '1003': {'name': 'Drink', 'pr': 85, 'qn': 100},\n",
              " '1004': {'name': 'Candy', 'pr': 5, 'qn': 1000},\n",
              " '1005': {'name': 'Pen', 'pr': 20, 'qn': 100},\n",
              " '1006': {'name': 'Phone', 'pr': 50000, 'qn': 10},\n",
              " '1007': {'name': 'Mic', 'pr': 1500, 'qn': 0},\n",
              " '1008': {'name': 'Case', 'pr': 599, 'qn': 5},\n",
              " '1009': {'name': 'dog', 'pr': 1999, 'qn': 10},\n",
              " '1010': {'name': 'cycle', 'pr': 1999, 'qn': 10},\n",
              " '1011': {'name': 'pen', 'pr': 1999, 'qn': 10},\n",
              " '1012': {'name': 'book', 'pr': 19949, 'qn': 101},\n",
              " '1013': {'name': 'cat', 'pr': 999, 'qn': 14},\n",
              " '1014': {'name': 'yash', 'pr': 22267862, 'qn': 15},\n",
              " '1015': {'name': 'bat', 'pr': 20000, 'qn': 145},\n",
              " '1016': {'name': 'headphone', 'pr': 999, 'qn': 134},\n",
              " '1017': {'name': 'cup', 'pr': 11999, 'qn': 117},\n",
              " '1018': {'name': 'plate', 'pr': 1945699, 'qn': 120},\n",
              " '1019': {'name': 'spoon', 'pr': 11799, 'qn': 156},\n",
              " '1020': {'name': 'frog', 'pr': 119, 'qn': 140},\n",
              " '1021': {'name': 'steel', 'pr': 19449, 'qn': 111},\n",
              " '1022': {'name': 'cooler', 'pr': 1999, 'qn': 113},\n",
              " '1023': {'name': 'books', 'pr': 1969, 'qn': 160},\n",
              " '1024': {'name': 'door', 'pr': 1969, 'qn': 140},\n",
              " '1025': {'name': 'DantKanti', 'pr': 1999, 'qn': 144},\n",
              " '1026': {'name': 'Dustbin', 'pr': 1999, 'qn': 70},\n",
              " '1027': {'name': 'Pen', 'pr': 199, 'qn': 115},\n",
              " '1028': {'name': 'mobile', 'pr': 1999, 'qn': 120},\n",
              " '1029': {'name': 'cycle', 'pr': 1999, 'qn': 130},\n",
              " '1030': {'name': 'Mini Bike', 'pr': 11959, 'qn': 222},\n",
              " '1031': {'name': 'cars', 'pr': 1999999, 'qn': 100}}"
            ]
          },
          "metadata": {},
          "execution_count": 4
        }
      ]
    }
  ]
}